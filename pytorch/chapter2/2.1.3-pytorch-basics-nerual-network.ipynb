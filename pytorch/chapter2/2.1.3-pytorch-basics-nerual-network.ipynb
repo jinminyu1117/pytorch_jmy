{
 "cells": [
  {
   "cell_type": "markdown",
   "metadata": {},
   "source": [
    "# PyTorch 基础 : 神经网络包nn和优化器optim\n",
    "\n",
    "torch.nn是专门为神经网络设计的模块化接口。\n",
    "\n",
    "nn构建于 Autograd之上，用来定义和运行神经网络。\n",
    "\n",
    "这里主要介绍一些常用类"
   ]
  },
  {
   "cell_type": "markdown",
   "metadata": {},
   "source": [
    "**约定：torch.nn 为了方便使用设置别名为nn，本章除nn外还有其他命名约定**"
   ]
  },
  {
   "cell_type": "code",
   "execution_count": 1,
   "metadata": {},
   "outputs": [
    {
     "data": {
      "text/plain": [
       "'1.6.0'"
      ]
     },
     "execution_count": 1,
     "metadata": {},
     "output_type": "execute_result"
    }
   ],
   "source": [
    "# 引入相关的包\n",
    "import torch\n",
    "\n",
    "# 引入torch.nn并指定别名\n",
    "import torch.nn as nn\n",
    "\n",
    "#打印一下版本\n",
    "torch.__version__"
   ]
  },
  {
   "cell_type": "markdown",
   "metadata": {},
   "source": [
    "除nn别名还引用nn.functional，包含神经网络使用的一些常用函数。\n",
    "\n",
    "这些函数特点是，不具有可学习的参数(如ReLU，pool，DropOut等)，这些函数可放在构造函数中，也可以不放，建议不放。\n",
    "\n",
    "一般情况下**将nn.functional 设置为大写的F**"
   ]
  },
  {
   "cell_type": "code",
   "execution_count": 2,
   "metadata": {},
   "outputs": [],
   "source": [
    "import torch.nn.functional as F"
   ]
  },
  {
   "cell_type": "markdown",
   "metadata": {},
   "source": [
    "## 定义一个网络\n",
    "\n",
    "PyTorch已经准备好现成的网络模型，只要继承nn.Module实现forward方法，PyTorch会根据autograd自动实现backward函数，\n",
    "\n",
    "forward函数可用任何tensor支持的函数，还可以用if、for、print、log等Python语法，写法和标准Python一致。"
   ]
  },
  {
   "cell_type": "code",
   "execution_count": 7,
   "metadata": {},
   "outputs": [],
   "source": [
    "# class Net(nn.Module):\n",
    "#     def __init__(self):\n",
    "#         super(Net, self).__init__()\n",
    "\n",
    "#         self.conv1 = nn.Conv2d(1, 6, 3)\n",
    "        \n",
    "#         self.fc1 = nn.Linear(1350,10)\n",
    "    \n",
    "#     def forward(self,x):\n",
    "#         print(x.size())\n",
    "        \n",
    "#         x = self.conv1(x)\n",
    "#         x = F.relu(x)\n",
    "#         print(x.size())\n",
    "        \n",
    "#         x = F.max_pool2d(x,(2,2))\n",
    "#         x = F.relu(x)\n",
    "#         print(x.size())\n",
    "        \n",
    "#         x = x.view(x.size()[0],-1)\n",
    "#         print(x.size())\n",
    "        \n",
    "#         x = self.fc1(x)\n",
    "#         return x\n",
    "    \n",
    "# net = Net()\n",
    "# print(net)"
   ]
  },
  {
   "cell_type": "code",
   "execution_count": 33,
   "metadata": {},
   "outputs": [
    {
     "name": "stdout",
     "output_type": "stream",
     "text": [
      "Net(\n",
      "  (conv1): Conv2d(1, 6, kernel_size=(3, 3), stride=(1, 1))\n",
      "  (fc1): Linear(in_features=1350, out_features=10, bias=True)\n",
      ")\n"
     ]
    }
   ],
   "source": [
    "class Net(nn.Module):\n",
    "    def __init__(self):\n",
    "\n",
    "        # nn.Module子类函数必须在构造函数中执行父类构造函数\n",
    "        super(Net, self).__init__()\n",
    "\n",
    "        # 卷积层 '1'表示输入图片单通道，'6'表示输出通道数，'3'表示卷积核为3*3\n",
    "        self.conv1 = nn.Conv2d(1, 6, 3)\n",
    "\n",
    "        #线性层，输入1350个特征，输出10个特征 \n",
    "        self.fc1 = nn.Linear(1350, 10)\n",
    "\n",
    "    #正向传播\n",
    "    def forward(self, x):\n",
    "        print(x.size())\n",
    "        # 结果[1, 1, 32, 32]\n",
    "\n",
    "        # 卷积 -> 激活 -> 池化\n",
    "        # 根据卷积尺寸计算公式结果是30，具体计算公式后面第二章第四节 卷积神经网络 有详细介绍。\n",
    "        x = self.conv1(x)\n",
    "        x = F.relu(x)\n",
    "        print(x.size())  \n",
    "        # 结果[1, 6, 30, 30]\n",
    "        \n",
    "        \n",
    "        # 使用池化层，计算结果15\n",
    "        x = F.max_pool2d(x, (2, 2))\n",
    "        x = F.relu(x)\n",
    "        print(x.size())  \n",
    "        # 结果[1, 6, 15, 15]\n",
    "        \n",
    "        \n",
    "        # 把[1, 6, 15, 15]压扁，变为 [1, 1350] reshape‘-1’表示自适应\n",
    "        x = x.view(x.size()[0], -1)\n",
    "        # fc1层的的输入1350\n",
    "        print(x.size())  \n",
    "        \n",
    "        # 结果1350\n",
    "        x = self.fc1(x)\n",
    "        \n",
    "        return x\n",
    "\n",
    "\n",
    "net = Net()\n",
    "print(net)"
   ]
  },
  {
   "cell_type": "markdown",
   "metadata": {},
   "source": [
    "网络可学习参数 通过net.parameters()返回"
   ]
  },
  {
   "cell_type": "code",
   "execution_count": 34,
   "metadata": {
    "scrolled": true
   },
   "outputs": [
    {
     "name": "stdout",
     "output_type": "stream",
     "text": [
      "Parameter containing:\n",
      "tensor([[[[ 0.1404,  0.1430, -0.1102],\n",
      "          [ 0.1459, -0.3215,  0.1739],\n",
      "          [-0.2614,  0.1917,  0.2980]]],\n",
      "\n",
      "\n",
      "        [[[ 0.3172, -0.2400, -0.2382],\n",
      "          [-0.0769,  0.2274, -0.1209],\n",
      "          [ 0.1064, -0.2572,  0.3016]]],\n",
      "\n",
      "\n",
      "        [[[-0.2319,  0.1844, -0.0064],\n",
      "          [-0.0077,  0.0490,  0.0914],\n",
      "          [-0.1213,  0.0078,  0.0014]]],\n",
      "\n",
      "\n",
      "        [[[ 0.1305, -0.0403,  0.2858],\n",
      "          [-0.1147, -0.0619,  0.0637],\n",
      "          [ 0.1482,  0.2279, -0.0653]]],\n",
      "\n",
      "\n",
      "        [[[ 0.2717,  0.0172, -0.1815],\n",
      "          [ 0.3134,  0.3091,  0.2698],\n",
      "          [-0.0592, -0.2693, -0.0740]]],\n",
      "\n",
      "\n",
      "        [[[-0.0225, -0.0798, -0.2458],\n",
      "          [-0.1924, -0.2072, -0.0565],\n",
      "          [ 0.0949,  0.3195, -0.1648]]]], requires_grad=True)\n",
      "Parameter containing:\n",
      "tensor([-0.1863,  0.0619,  0.0005, -0.1337, -0.0773,  0.1795],\n",
      "       requires_grad=True)\n",
      "Parameter containing:\n",
      "tensor([[-0.0216,  0.0082,  0.0058,  ...,  0.0035, -0.0171, -0.0166],\n",
      "        [-0.0243,  0.0244,  0.0026,  ..., -0.0003, -0.0009,  0.0157],\n",
      "        [-0.0246, -0.0228, -0.0149,  ...,  0.0213,  0.0130,  0.0186],\n",
      "        ...,\n",
      "        [-0.0197,  0.0173,  0.0267,  ...,  0.0146,  0.0028,  0.0177],\n",
      "        [-0.0142,  0.0137,  0.0265,  ..., -0.0145,  0.0190, -0.0265],\n",
      "        [-0.0216,  0.0118, -0.0205,  ..., -0.0079,  0.0177, -0.0245]],\n",
      "       requires_grad=True)\n",
      "Parameter containing:\n",
      "tensor([-0.0247, -0.0261, -0.0082,  0.0256, -0.0219, -0.0158, -0.0135,  0.0223,\n",
      "        -0.0180,  0.0235], requires_grad=True)\n"
     ]
    }
   ],
   "source": [
    "for parameters in net.parameters():\n",
    "    print(parameters)"
   ]
  },
  {
   "cell_type": "markdown",
   "metadata": {},
   "source": [
    "net.named_parameters可同时返回可学习的参数及名称"
   ]
  },
  {
   "cell_type": "code",
   "execution_count": 35,
   "metadata": {},
   "outputs": [
    {
     "name": "stdout",
     "output_type": "stream",
     "text": [
      "conv1.weight : torch.Size([6, 1, 3, 3])\n",
      "conv1.bias : torch.Size([6])\n",
      "fc1.weight : torch.Size([10, 1350])\n",
      "fc1.bias : torch.Size([10])\n"
     ]
    }
   ],
   "source": [
    "for name,parameters in net.named_parameters():\n",
    "    print(name,':',parameters.size())"
   ]
  },
  {
   "cell_type": "markdown",
   "metadata": {},
   "source": [
    "forward函数的输入和输出都是Tensor"
   ]
  },
  {
   "cell_type": "code",
   "execution_count": 36,
   "metadata": {},
   "outputs": [
    {
     "name": "stdout",
     "output_type": "stream",
     "text": [
      "torch.Size([1, 1, 32, 32])\n",
      "torch.Size([1, 6, 30, 30])\n",
      "torch.Size([1, 6, 15, 15])\n",
      "torch.Size([1, 1350])\n"
     ]
    },
    {
     "data": {
      "text/plain": [
       "torch.Size([1, 10])"
      ]
     },
     "execution_count": 36,
     "metadata": {},
     "output_type": "execute_result"
    }
   ],
   "source": [
    "# forward的输入是32\n",
    "input = torch.randn(1, 1, 32, 32)\n",
    "out = net(input)\n",
    "out.size()"
   ]
  },
  {
   "cell_type": "code",
   "execution_count": 37,
   "metadata": {},
   "outputs": [
    {
     "data": {
      "text/plain": [
       "torch.Size([1, 1, 32, 32])"
      ]
     },
     "execution_count": 37,
     "metadata": {},
     "output_type": "execute_result"
    }
   ],
   "source": [
    "input.size()"
   ]
  },
  {
   "cell_type": "markdown",
   "metadata": {},
   "source": [
    "反向传播前，要将所有参数的梯度清零"
   ]
  },
  {
   "cell_type": "code",
   "execution_count": 38,
   "metadata": {},
   "outputs": [],
   "source": [
    "net.zero_grad() \n",
    "\n",
    "# PyTorch自动实现反向传播，只要调用这个函数即可\n",
    "out.backward(torch.ones(1,10)) "
   ]
  },
  {
   "cell_type": "code",
   "execution_count": 40,
   "metadata": {},
   "outputs": [
    {
     "data": {
      "text/plain": [
       "tensor([[-0.2480,  0.2751, -0.0508,  0.9324, -0.9408, -0.1811,  0.5845, -0.3075,\n",
       "          0.0055,  0.4399]], grad_fn=<AddmmBackward>)"
      ]
     },
     "execution_count": 40,
     "metadata": {},
     "output_type": "execute_result"
    }
   ],
   "source": [
    "out"
   ]
  },
  {
   "cell_type": "markdown",
   "metadata": {},
   "source": [
    "**注意**:torch.nn只支持mini-batches，不支持一次只输入一个样本，一次必须是一个batch。\n",
    "\n",
    "就算输入一个样本，也会对样本进行分批，所有输入都会增加一个维度。\n",
    "\n",
    "对比刚才的input，nn定义为3维，但人工创建时多增加一个维度变为4维，最前面的1即为batch-size。"
   ]
  },
  {
   "cell_type": "markdown",
   "metadata": {},
   "source": [
    "## 损失函数\n",
    "\n",
    "nn中PyTorch预制了常用损失函数，用MSELoss计算均方误差"
   ]
  },
  {
   "cell_type": "code",
   "execution_count": 39,
   "metadata": {},
   "outputs": [
    {
     "data": {
      "text/plain": [
       "torch.Size([1, 10])"
      ]
     },
     "execution_count": 39,
     "metadata": {},
     "output_type": "execute_result"
    }
   ],
   "source": [
    "y = torch.arange(0,10).view(1,10).float()\n",
    "y.size()"
   ]
  },
  {
   "cell_type": "code",
   "execution_count": 41,
   "metadata": {},
   "outputs": [
    {
     "name": "stdout",
     "output_type": "stream",
     "text": [
      "28.0238037109375\n"
     ]
    }
   ],
   "source": [
    "criterion = nn.MSELoss()\n",
    "loss = criterion(out, y)\n",
    "\n",
    "#loss是scalar，直接用item获取python类型的数值\n",
    "print(loss.item()) "
   ]
  },
  {
   "cell_type": "markdown",
   "metadata": {},
   "source": [
    "## 优化器\n",
    "\n",
    "反向传播计算所有参数的梯度后，要用优化方法更新网络的权重和参数，如随机梯度下降法(SGD)的更新策略如下：\n",
    "\n",
    "weight = weight - learning_rate * gradient\n",
    "\n",
    "torch.optim实现大多数的优化方法，如RMSProp、Adam、SGD等，用SGD做个简单样例"
   ]
  },
  {
   "cell_type": "code",
   "execution_count": 43,
   "metadata": {},
   "outputs": [
    {
     "name": "stdout",
     "output_type": "stream",
     "text": [
      "torch.Size([1, 1, 32, 32])\n",
      "torch.Size([1, 6, 30, 30])\n",
      "torch.Size([1, 6, 15, 15])\n",
      "torch.Size([1, 1350])\n",
      "tensor(0.0478, grad_fn=<MseLossBackward>) \n",
      "\n",
      "torch.Size([1, 1, 32, 32])\n",
      "torch.Size([1, 6, 30, 30])\n",
      "torch.Size([1, 6, 15, 15])\n",
      "torch.Size([1, 1350])\n",
      "tensor(0.0216, grad_fn=<MseLossBackward>) \n",
      "\n",
      "torch.Size([1, 1, 32, 32])\n",
      "torch.Size([1, 6, 30, 30])\n",
      "torch.Size([1, 6, 15, 15])\n",
      "torch.Size([1, 1350])\n",
      "tensor(0.0081, grad_fn=<MseLossBackward>) \n",
      "\n",
      "torch.Size([1, 1, 32, 32])\n",
      "torch.Size([1, 6, 30, 30])\n",
      "torch.Size([1, 6, 15, 15])\n",
      "torch.Size([1, 1350])\n",
      "tensor(0.0034, grad_fn=<MseLossBackward>) \n",
      "\n",
      "torch.Size([1, 1, 32, 32])\n",
      "torch.Size([1, 6, 30, 30])\n",
      "torch.Size([1, 6, 15, 15])\n",
      "torch.Size([1, 1350])\n",
      "tensor(0.0013, grad_fn=<MseLossBackward>) \n",
      "\n",
      "torch.Size([1, 1, 32, 32])\n",
      "torch.Size([1, 6, 30, 30])\n",
      "torch.Size([1, 6, 15, 15])\n",
      "torch.Size([1, 1350])\n",
      "tensor(0.0006, grad_fn=<MseLossBackward>) \n",
      "\n",
      "torch.Size([1, 1, 32, 32])\n",
      "torch.Size([1, 6, 30, 30])\n",
      "torch.Size([1, 6, 15, 15])\n",
      "torch.Size([1, 1350])\n",
      "tensor(0.0002, grad_fn=<MseLossBackward>) \n",
      "\n",
      "torch.Size([1, 1, 32, 32])\n",
      "torch.Size([1, 6, 30, 30])\n",
      "torch.Size([1, 6, 15, 15])\n",
      "torch.Size([1, 1350])\n",
      "tensor(9.0344e-05, grad_fn=<MseLossBackward>) \n",
      "\n",
      "torch.Size([1, 1, 32, 32])\n",
      "torch.Size([1, 6, 30, 30])\n",
      "torch.Size([1, 6, 15, 15])\n",
      "torch.Size([1, 1350])\n",
      "tensor(3.6395e-05, grad_fn=<MseLossBackward>) \n",
      "\n",
      "torch.Size([1, 1, 32, 32])\n",
      "torch.Size([1, 6, 30, 30])\n",
      "torch.Size([1, 6, 15, 15])\n",
      "torch.Size([1, 1350])\n",
      "tensor(1.4779e-05, grad_fn=<MseLossBackward>) \n",
      "\n"
     ]
    }
   ],
   "source": [
    "import torch.optim\n",
    "for i in range(10):\n",
    "    # 调用时打印forword函数的大小\n",
    "    out = net(input) \n",
    "    criterion = nn.MSELoss()\n",
    "    loss = criterion(out, y)\n",
    "    print(loss,\"\\n\")\n",
    "\n",
    "    # 新建一个优化器，SGD调整的参数和学习率\n",
    "    optimizer = torch.optim.SGD(net.parameters(), lr = 0.01)\n",
    "\n",
    "    # 梯度清零(与net.zero_grad()效果一样)\n",
    "    optimizer.zero_grad() \n",
    "    loss.backward()\n",
    "\n",
    "    #更新参数\n",
    "    optimizer.step()"
   ]
  },
  {
   "cell_type": "markdown",
   "metadata": {},
   "source": [
    "神经网络数据的一个完整传播就已经通过PyTorch实现。\n",
    "\n",
    "下一章介绍PyTorch提供的数据加载和处理工具，这些工具可以方便的处理所需要的数据。\n",
    "\n",
    "大家可能对神经网络模型里面的一些参数的计算方式还有疑惑，这部分会在第二章 第四节 卷积神经网络有详细介绍，\n",
    "并且在第三章 第二节 MNIST数据集手写数字识别的实践代码中有详细的注释说明。"
   ]
  }
 ],
 "metadata": {
  "kernelspec": {
   "display_name": "Python 3",
   "language": "python",
   "name": "python3"
  },
  "language_info": {
   "codemirror_mode": {
    "name": "ipython",
    "version": 3
   },
   "file_extension": ".py",
   "mimetype": "text/x-python",
   "name": "python",
   "nbconvert_exporter": "python",
   "pygments_lexer": "ipython3",
   "version": "3.8.5"
  }
 },
 "nbformat": 4,
 "nbformat_minor": 2
}
