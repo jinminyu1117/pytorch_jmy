{
 "cells": [
  {
   "cell_type": "code",
   "execution_count": 1,
   "metadata": {},
   "outputs": [
    {
     "data": {
      "text/plain": [
       "'1.6.0'"
      ]
     },
     "execution_count": 1,
     "metadata": {},
     "output_type": "execute_result"
    }
   ],
   "source": [
    "import torch\n",
    "import torch.nn as nn\n",
    "import torch.nn.functional as F\n",
    "import torch.optim as optim\n",
    "from torchvision import datasets, transforms\n",
    "torch.__version__"
   ]
  },
  {
   "cell_type": "markdown",
   "metadata": {},
   "source": [
    "# 3.2  MNIST数据集手写数字识别\n",
    "\n",
    "## 3.2.1  数据集介绍\n",
    "\n",
    "* MNIST 包括6万张28x28的训练样本，1万张测试样本。\n",
    "* 很多教程会对它”下手”，几乎成为一个 “典范”，可以说是计算机视觉里的Hello World。\n",
    "* 所以这里也会使用MNIST进行实战。\n",
    "\n",
    "* LeNet-5之所以强大，就是因为当时将MNIST数据的识别率提高到了99%\n",
    "* 这里自己从头搭建一个卷积神经网络，达到99%的准确率"
   ]
  },
  {
   "cell_type": "markdown",
   "metadata": {},
   "source": [
    "## 3.2.2 手写数字识别\n",
    "首先定义一些超参数"
   ]
  },
  {
   "cell_type": "code",
   "execution_count": 2,
   "metadata": {},
   "outputs": [],
   "source": [
    "# 大概需要2G显存\n",
    "BATCH_SIZE = 512\n",
    "\n",
    "# 总共训练批次\n",
    "EPOCHS = 20\n",
    "\n",
    "# torch判断是否使用GPU，建议用GPU环境，会快很多\n",
    "DEVICE = torch.device(\"cuda\" if torch.cuda.is_available() else \"cpu\")"
   ]
  },
  {
   "cell_type": "markdown",
   "metadata": {},
   "source": [
    "* Pytorch里包含**MNIST数据集**，直接使用即可。\n",
    "* 第一次执行会生成**data文件夹**，并且需要一些时间下载，如果以前下载过不会再次下载\n",
    "* 官方已经实现dataset，可以直接用**DataLoader读取数据**"
   ]
  },
  {
   "cell_type": "code",
   "execution_count": 3,
   "metadata": {},
   "outputs": [
    {
     "name": "stdout",
     "output_type": "stream",
     "text": [
      "Downloading http://yann.lecun.com/exdb/mnist/train-images-idx3-ubyte.gz to data/MNIST/raw/train-images-idx3-ubyte.gz\n"
     ]
    },
    {
     "data": {
      "application/vnd.jupyter.widget-view+json": {
       "model_id": "881b4b7c01ac45dea38240a497ebec0c",
       "version_major": 2,
       "version_minor": 0
      },
      "text/plain": [
       "HBox(children=(FloatProgress(value=1.0, bar_style='info', layout=Layout(width='20px'), max=1.0), HTML(value=''…"
      ]
     },
     "metadata": {},
     "output_type": "display_data"
    },
    {
     "name": "stdout",
     "output_type": "stream",
     "text": [
      "Extracting data/MNIST/raw/train-images-idx3-ubyte.gz to data/MNIST/raw\n",
      "Downloading http://yann.lecun.com/exdb/mnist/train-labels-idx1-ubyte.gz to data/MNIST/raw/train-labels-idx1-ubyte.gz\n"
     ]
    },
    {
     "data": {
      "application/vnd.jupyter.widget-view+json": {
       "model_id": "1b7876f410e84923ae734e869cd5373c",
       "version_major": 2,
       "version_minor": 0
      },
      "text/plain": [
       "HBox(children=(FloatProgress(value=1.0, bar_style='info', layout=Layout(width='20px'), max=1.0), HTML(value=''…"
      ]
     },
     "metadata": {},
     "output_type": "display_data"
    },
    {
     "name": "stdout",
     "output_type": "stream",
     "text": [
      "Extracting data/MNIST/raw/train-labels-idx1-ubyte.gz to data/MNIST/raw\n",
      "Downloading http://yann.lecun.com/exdb/mnist/t10k-images-idx3-ubyte.gz to data/MNIST/raw/t10k-images-idx3-ubyte.gz\n"
     ]
    },
    {
     "data": {
      "application/vnd.jupyter.widget-view+json": {
       "model_id": "b012fd74aad64368b00691fb218430b4",
       "version_major": 2,
       "version_minor": 0
      },
      "text/plain": [
       "HBox(children=(FloatProgress(value=1.0, bar_style='info', layout=Layout(width='20px'), max=1.0), HTML(value=''…"
      ]
     },
     "metadata": {},
     "output_type": "display_data"
    },
    {
     "name": "stdout",
     "output_type": "stream",
     "text": [
      "Extracting data/MNIST/raw/t10k-images-idx3-ubyte.gz to data/MNIST/raw\n",
      "Downloading http://yann.lecun.com/exdb/mnist/t10k-labels-idx1-ubyte.gz to data/MNIST/raw/t10k-labels-idx1-ubyte.gz\n"
     ]
    },
    {
     "data": {
      "application/vnd.jupyter.widget-view+json": {
       "model_id": "91d6987053c3416fa4f995b149070159",
       "version_major": 2,
       "version_minor": 0
      },
      "text/plain": [
       "HBox(children=(FloatProgress(value=1.0, bar_style='info', layout=Layout(width='20px'), max=1.0), HTML(value=''…"
      ]
     },
     "metadata": {},
     "output_type": "display_data"
    },
    {
     "name": "stdout",
     "output_type": "stream",
     "text": [
      "Extracting data/MNIST/raw/t10k-labels-idx1-ubyte.gz to data/MNIST/raw\n",
      "Processing...\n",
      "Done!\n"
     ]
    },
    {
     "name": "stderr",
     "output_type": "stream",
     "text": [
      "/Users/jinminyu/opt/anaconda3/lib/python3.8/site-packages/torchvision/datasets/mnist.py:469: UserWarning: The given NumPy array is not writeable, and PyTorch does not support non-writeable tensors. This means you can write to the underlying (supposedly non-writeable) NumPy array using the tensor. You may want to copy the array to protect its data or make it writeable before converting it to a tensor. This type of warning will be suppressed for the rest of this program. (Triggered internally at  ../torch/csrc/utils/tensor_numpy.cpp:141.)\n",
      "  return torch.from_numpy(parsed.astype(m[2], copy=False)).view(*s)\n"
     ]
    }
   ],
   "source": [
    "train_loader = torch.utils.data.DataLoader(datasets.MNIST(\n",
    "    'data',\n",
    "    train=True,\n",
    "    download=True,\n",
    "    transform=transforms.Compose(\n",
    "        [transforms.ToTensor(),\n",
    "         transforms.Normalize((0.1307, ), (0.3081, ))])),\n",
    "                                           batch_size=BATCH_SIZE,\n",
    "                                           shuffle=True)"
   ]
  },
  {
   "cell_type": "markdown",
   "metadata": {},
   "source": [
    "测试集"
   ]
  },
  {
   "cell_type": "code",
   "execution_count": 5,
   "metadata": {},
   "outputs": [],
   "source": [
    "test_loader = torch.utils.data.DataLoader(datasets.MNIST(\n",
    "    'data',\n",
    "    train=False,\n",
    "    transform=transforms.Compose(\n",
    "        [transforms.ToTensor(),\n",
    "         transforms.Normalize((0.1307, ), (0.3081, ))])),\n",
    "                                          batch_size=BATCH_SIZE,\n",
    "                                          shuffle=True)"
   ]
  },
  {
   "cell_type": "markdown",
   "metadata": {},
   "source": [
    "### 下面定义一个网络：\n",
    "- 网络包含两个卷积层conv1和conv2\n",
    "- 紧接着两个线性层作为输出\n",
    "- 最后输出10个维度，这10个维度作为0-9标识，确定识别出的数字\n",
    "- 将每一层的输入和输出维度都标注出来，阅读代码会方便很多"
   ]
  },
  {
   "cell_type": "code",
   "execution_count": 7,
   "metadata": {},
   "outputs": [],
   "source": [
    "class ConvNet(nn.Module):\n",
    "    def __init__(self):\n",
    "        super().__init__()\n",
    "\n",
    "        # batch*1*28*28 每次送入batch个样本，输入通道数1（黑白图像），图像分辨率28x28\n",
    "        # 卷积层Conv2d的第一个参数输入通道数，第二个参数输出通道数，第三个参数卷积核大小\n",
    "\n",
    "        # 输入通道数1，输出通道数10，核大小5\n",
    "        self.conv1 = nn.Conv2d(1, 10, 5)\n",
    "\n",
    "        # 输入通道数10，输出通道数20，核大小3\n",
    "        self.conv2 = nn.Conv2d(10, 20, 3)\n",
    "\n",
    "        # 全连接层Linear第一个参数输入通道数，第二个参数输出通道数\n",
    "\n",
    "        # 输入通道数2000，输出通道数500\n",
    "        self.fc1 = nn.Linear(20 * 10 * 10, 500)\n",
    "\n",
    "        # 输入通道数500，输出通道数10，即10分类\n",
    "        self.fc2 = nn.Linear(500, 10)\n",
    "\n",
    "    def forward(self, x):\n",
    "\n",
    "        # 本例in_size=512，BATCH_SIZE值。输入x可以看成512*1*28*28的张量。\n",
    "        in_size = x.size(0)\n",
    "\n",
    "        # batch*1*28*28 -> batch*10*24*24\n",
    "        # 28x28的图像经过一次核为5x5的卷积，输出变为24x24\n",
    "        out = self.conv1(x)\n",
    "\n",
    "        # batch*10*24*24\n",
    "        # 激活函数ReLU不改变形状\n",
    "        out = F.relu(out)\n",
    "\n",
    "        # batch*10*24*24 -> batch*10*12*12\n",
    "        # 2*2的池化层，减半\n",
    "        out = F.max_pool2d(out, 2, 2)\n",
    "\n",
    "        # batch*10*12*12 -> batch*20*10*10\n",
    "        # 再卷积一次，核大小3\n",
    "        out = self.conv2(out)\n",
    "\n",
    "        # batch*20*10*10\n",
    "        out = F.relu(out)\n",
    "\n",
    "        # batch*20*10*10 -> batch*2000\n",
    "        # out第二维-1是自动推算，本例第二维是20*10*10\n",
    "        out = out.view(in_size, -1)\n",
    "\n",
    "        # batch*2000 -> batch*500\n",
    "        out = self.fc1(out)\n",
    "\n",
    "        # batch*500\n",
    "        out = F.relu(out)\n",
    "\n",
    "        # batch*500 -> batch*10\n",
    "        out = self.fc2(out)\n",
    "\n",
    "        # 计算log(softmax(x))\n",
    "        out = F.log_softmax(out, dim=1)\n",
    "\n",
    "        return out"
   ]
  },
  {
   "cell_type": "markdown",
   "metadata": {},
   "source": [
    "实例化一个网络，实例化后用.to方法将网络移动到GPU\n",
    "优化器直接选择简单暴力的**Adam**"
   ]
  },
  {
   "cell_type": "code",
   "execution_count": 9,
   "metadata": {},
   "outputs": [
    {
     "data": {
      "text/plain": [
       "Adam (\n",
       "Parameter Group 0\n",
       "    amsgrad: False\n",
       "    betas: (0.9, 0.999)\n",
       "    eps: 1e-08\n",
       "    lr: 0.001\n",
       "    weight_decay: 0\n",
       ")"
      ]
     },
     "execution_count": 9,
     "metadata": {},
     "output_type": "execute_result"
    }
   ],
   "source": [
    "model = ConvNet().to(DEVICE)\n",
    "optimizer = optim.Adam(model.parameters())\n",
    "optimizer"
   ]
  },
  {
   "cell_type": "markdown",
   "metadata": {},
   "source": [
    "定义训练的函数，将训练所有操作封装到这个函数中"
   ]
  },
  {
   "cell_type": "code",
   "execution_count": 10,
   "metadata": {},
   "outputs": [],
   "source": [
    "def train(model, device, train_loader, optimizer, epoch):\n",
    "    model.train()\n",
    "\n",
    "    for batch_idx, (data, target) in enumerate(train_loader):\n",
    "        data, target = data.to(device), target.to(device)\n",
    "\n",
    "        optimizer.zero_grad()\n",
    "\n",
    "        output = model(data)\n",
    "        loss = F.nll_loss(output, target)\n",
    "\n",
    "        loss.backward()\n",
    "\n",
    "        optimizer.step()\n",
    "\n",
    "        if (batch_idx + 1) % 30 == 0:\n",
    "            print('Train Epoch: {} [{}/{} ({:.0f}%)]\\tLoss: {:.6f}'.format(\n",
    "                epoch, batch_idx * len(data), len(train_loader.dataset),\n",
    "                100. * batch_idx / len(train_loader), loss.item()))"
   ]
  },
  {
   "cell_type": "markdown",
   "metadata": {},
   "source": [
    "测试操作也封装成一个函数"
   ]
  },
  {
   "cell_type": "code",
   "execution_count": 11,
   "metadata": {},
   "outputs": [],
   "source": [
    "def test(model, device, test_loader):\n",
    "\n",
    "    model.eval()\n",
    "    test_loss = 0\n",
    "    correct = 0\n",
    "    with torch.no_grad():\n",
    "        for data, target in test_loader:\n",
    "            data, target = data.to(device), target.to(device)\n",
    "            output = model(data)\n",
    "\n",
    "            # 将一批的损失相加\n",
    "            test_loss += F.nll_loss(output, target, reduction='sum').item()\n",
    "\n",
    "            # 找到概率最大的下标\n",
    "            pred = output.max(1, keepdim=True)[1]\n",
    "            correct += pred.eq(target.view_as(pred)).sum().item()\n",
    "\n",
    "    test_loss /= len(test_loader.dataset)\n",
    "    print(\n",
    "        '\\nTest set: Average loss: {:.4f}, Accuracy: {}/{} ({:.0f}%)\\n'.format(\n",
    "            test_loss, correct, len(test_loader.dataset),\n",
    "            100. * correct / len(test_loader.dataset)))"
   ]
  },
  {
   "cell_type": "markdown",
   "metadata": {},
   "source": [
    "开始训练，这里体现出封装的好处，只要写两行就可以"
   ]
  },
  {
   "cell_type": "code",
   "execution_count": 12,
   "metadata": {},
   "outputs": [
    {
     "name": "stdout",
     "output_type": "stream",
     "text": [
      "Train Epoch: 1 [14848/60000 (25%)]\tLoss: 0.358260\n",
      "Train Epoch: 1 [30208/60000 (50%)]\tLoss: 0.168626\n",
      "Train Epoch: 1 [45568/60000 (75%)]\tLoss: 0.191831\n",
      "\n",
      "Test set: Average loss: 0.1097, Accuracy: 9659/10000 (97%)\n",
      "\n",
      "Train Epoch: 2 [14848/60000 (25%)]\tLoss: 0.103716\n",
      "Train Epoch: 2 [30208/60000 (50%)]\tLoss: 0.099409\n",
      "Train Epoch: 2 [45568/60000 (75%)]\tLoss: 0.111251\n",
      "\n",
      "Test set: Average loss: 0.0578, Accuracy: 9816/10000 (98%)\n",
      "\n",
      "Train Epoch: 3 [14848/60000 (25%)]\tLoss: 0.072006\n",
      "Train Epoch: 3 [30208/60000 (50%)]\tLoss: 0.044807\n",
      "Train Epoch: 3 [45568/60000 (75%)]\tLoss: 0.055265\n",
      "\n",
      "Test set: Average loss: 0.0468, Accuracy: 9845/10000 (98%)\n",
      "\n",
      "Train Epoch: 4 [14848/60000 (25%)]\tLoss: 0.053114\n",
      "Train Epoch: 4 [30208/60000 (50%)]\tLoss: 0.024852\n",
      "Train Epoch: 4 [45568/60000 (75%)]\tLoss: 0.035126\n",
      "\n",
      "Test set: Average loss: 0.0392, Accuracy: 9861/10000 (99%)\n",
      "\n",
      "Train Epoch: 5 [14848/60000 (25%)]\tLoss: 0.016164\n",
      "Train Epoch: 5 [30208/60000 (50%)]\tLoss: 0.025941\n",
      "Train Epoch: 5 [45568/60000 (75%)]\tLoss: 0.030396\n",
      "\n",
      "Test set: Average loss: 0.0368, Accuracy: 9881/10000 (99%)\n",
      "\n",
      "Train Epoch: 6 [14848/60000 (25%)]\tLoss: 0.028275\n",
      "Train Epoch: 6 [30208/60000 (50%)]\tLoss: 0.019251\n",
      "Train Epoch: 6 [45568/60000 (75%)]\tLoss: 0.041046\n",
      "\n",
      "Test set: Average loss: 0.0349, Accuracy: 9894/10000 (99%)\n",
      "\n",
      "Train Epoch: 7 [14848/60000 (25%)]\tLoss: 0.017025\n",
      "Train Epoch: 7 [30208/60000 (50%)]\tLoss: 0.009356\n",
      "Train Epoch: 7 [45568/60000 (75%)]\tLoss: 0.023646\n",
      "\n",
      "Test set: Average loss: 0.0302, Accuracy: 9905/10000 (99%)\n",
      "\n",
      "Train Epoch: 8 [14848/60000 (25%)]\tLoss: 0.016752\n",
      "Train Epoch: 8 [30208/60000 (50%)]\tLoss: 0.008498\n",
      "Train Epoch: 8 [45568/60000 (75%)]\tLoss: 0.047198\n",
      "\n",
      "Test set: Average loss: 0.0294, Accuracy: 9900/10000 (99%)\n",
      "\n",
      "Train Epoch: 9 [14848/60000 (25%)]\tLoss: 0.023362\n",
      "Train Epoch: 9 [30208/60000 (50%)]\tLoss: 0.010493\n",
      "Train Epoch: 9 [45568/60000 (75%)]\tLoss: 0.010248\n",
      "\n",
      "Test set: Average loss: 0.0381, Accuracy: 9878/10000 (99%)\n",
      "\n",
      "Train Epoch: 10 [14848/60000 (25%)]\tLoss: 0.015034\n",
      "Train Epoch: 10 [30208/60000 (50%)]\tLoss: 0.027666\n",
      "Train Epoch: 10 [45568/60000 (75%)]\tLoss: 0.009276\n",
      "\n",
      "Test set: Average loss: 0.0330, Accuracy: 9898/10000 (99%)\n",
      "\n",
      "Train Epoch: 11 [14848/60000 (25%)]\tLoss: 0.009294\n",
      "Train Epoch: 11 [30208/60000 (50%)]\tLoss: 0.006586\n",
      "Train Epoch: 11 [45568/60000 (75%)]\tLoss: 0.006087\n",
      "\n",
      "Test set: Average loss: 0.0319, Accuracy: 9896/10000 (99%)\n",
      "\n",
      "Train Epoch: 12 [14848/60000 (25%)]\tLoss: 0.008370\n",
      "Train Epoch: 12 [30208/60000 (50%)]\tLoss: 0.006623\n",
      "Train Epoch: 12 [45568/60000 (75%)]\tLoss: 0.005481\n",
      "\n",
      "Test set: Average loss: 0.0313, Accuracy: 9901/10000 (99%)\n",
      "\n",
      "Train Epoch: 13 [14848/60000 (25%)]\tLoss: 0.002243\n",
      "Train Epoch: 13 [30208/60000 (50%)]\tLoss: 0.013149\n",
      "Train Epoch: 13 [45568/60000 (75%)]\tLoss: 0.002748\n",
      "\n",
      "Test set: Average loss: 0.0346, Accuracy: 9901/10000 (99%)\n",
      "\n",
      "Train Epoch: 14 [14848/60000 (25%)]\tLoss: 0.013031\n",
      "Train Epoch: 14 [30208/60000 (50%)]\tLoss: 0.008532\n",
      "Train Epoch: 14 [45568/60000 (75%)]\tLoss: 0.004296\n",
      "\n",
      "Test set: Average loss: 0.0298, Accuracy: 9911/10000 (99%)\n",
      "\n",
      "Train Epoch: 15 [14848/60000 (25%)]\tLoss: 0.000994\n",
      "Train Epoch: 15 [30208/60000 (50%)]\tLoss: 0.016942\n",
      "Train Epoch: 15 [45568/60000 (75%)]\tLoss: 0.011081\n",
      "\n",
      "Test set: Average loss: 0.0351, Accuracy: 9898/10000 (99%)\n",
      "\n",
      "Train Epoch: 16 [14848/60000 (25%)]\tLoss: 0.002183\n",
      "Train Epoch: 16 [30208/60000 (50%)]\tLoss: 0.004464\n",
      "Train Epoch: 16 [45568/60000 (75%)]\tLoss: 0.002997\n",
      "\n",
      "Test set: Average loss: 0.0332, Accuracy: 9911/10000 (99%)\n",
      "\n",
      "Train Epoch: 17 [14848/60000 (25%)]\tLoss: 0.006082\n",
      "Train Epoch: 17 [30208/60000 (50%)]\tLoss: 0.001551\n",
      "Train Epoch: 17 [45568/60000 (75%)]\tLoss: 0.010607\n",
      "\n",
      "Test set: Average loss: 0.0384, Accuracy: 9897/10000 (99%)\n",
      "\n",
      "Train Epoch: 18 [14848/60000 (25%)]\tLoss: 0.002557\n",
      "Train Epoch: 18 [30208/60000 (50%)]\tLoss: 0.006241\n",
      "Train Epoch: 18 [45568/60000 (75%)]\tLoss: 0.006846\n",
      "\n",
      "Test set: Average loss: 0.0350, Accuracy: 9906/10000 (99%)\n",
      "\n",
      "Train Epoch: 19 [14848/60000 (25%)]\tLoss: 0.000975\n",
      "Train Epoch: 19 [30208/60000 (50%)]\tLoss: 0.000475\n",
      "Train Epoch: 19 [45568/60000 (75%)]\tLoss: 0.000865\n",
      "\n",
      "Test set: Average loss: 0.0396, Accuracy: 9908/10000 (99%)\n",
      "\n",
      "Train Epoch: 20 [14848/60000 (25%)]\tLoss: 0.000303\n",
      "Train Epoch: 20 [30208/60000 (50%)]\tLoss: 0.001839\n",
      "Train Epoch: 20 [45568/60000 (75%)]\tLoss: 0.000793\n",
      "\n",
      "Test set: Average loss: 0.0332, Accuracy: 9915/10000 (99%)\n",
      "\n"
     ]
    }
   ],
   "source": [
    "for epoch in range(1, EPOCHS + 1):\n",
    "    train(model, DEVICE, train_loader, optimizer, epoch)\n",
    "    test(model, DEVICE, test_loader)"
   ]
  },
  {
   "cell_type": "markdown",
   "metadata": {},
   "source": [
    "准确率99%，没问题。如果模型连MNIST都搞不定，那没有任何价值。即使模型搞定MNIST，也可能没有任何价值。\n",
    "\n",
    "MNIST是一个简单数据集，由于局限性只能作为研究用途，实际应用的价值非常有限。但通过这个例子，可以了解一个实际项目的工作流程。\n",
    "\n",
    "* 找到数据集，预处理数据\n",
    "* 定义模型\n",
    "* 调整超参数\n",
    "* 测试训练\n",
    "* 通过训练结果调整超参数，或调整模型\n",
    "\n",
    "通过这个实战已经有一个很好模板，以后项目都可以以这个模板为样例"
   ]
  }
 ],
 "metadata": {
  "kernelspec": {
   "display_name": "Python 3",
   "language": "python",
   "name": "python3"
  },
  "language_info": {
   "codemirror_mode": {
    "name": "ipython",
    "version": 3
   },
   "file_extension": ".py",
   "mimetype": "text/x-python",
   "name": "python",
   "nbconvert_exporter": "python",
   "pygments_lexer": "ipython3",
   "version": "3.8.5"
  }
 },
 "nbformat": 4,
 "nbformat_minor": 2
}
