{
 "cells": [
  {
   "cell_type": "code",
   "execution_count": 2,
   "metadata": {},
   "outputs": [],
   "source": [
    "%matplotlib inline"
   ]
  },
  {
   "cell_type": "markdown",
   "metadata": {},
   "source": [
    "### Neural Networks\n",
    "\n",
    "用torch.nn包构建神经网络。``autograd``，``nn``包依赖``autograd``包定义模型并求导。\n",
    "\n",
    "一个``nn.Module``包含各个层和``forward(input)``方法，返回``output``。\n",
    "\n",
    "<img src=https://pytorch.org/tutorials/_images/mnist.png width=800>\n",
    "\n",
    "一个简单的前馈神经网络，接受一个输入，一层接着一层传递，最后输出计算结果。\n",
    "\n",
    "神经网络的典型训练过程如下：\n",
    "\n",
    "1. 定义包含一些可学习参数(权重)的神经网络模型； \n",
    "2. 在数据集上迭代； \n",
    "3. 通过神经网络处理输入； \n",
    "4. 计算损失(输出结果和正确值差值)；\n",
    "5. 梯度反向传播回网络的参数； \n",
    "6. 更新网络参数，使用如下简单的更新原则： \n",
    "``weight = weight - learning_rate * gradient``\n",
    "\n",
    "### 定义网络"
   ]
  },
  {
   "cell_type": "code",
   "execution_count": 1,
   "metadata": {},
   "outputs": [
    {
     "name": "stdout",
     "output_type": "stream",
     "text": [
      "Net(\n",
      "  (conv1): Conv2d(1, 6, kernel_size=(5, 5), stride=(1, 1))\n",
      "  (conv2): Conv2d(6, 16, kernel_size=(5, 5), stride=(1, 1))\n",
      "  (fc1): Linear(in_features=400, out_features=120, bias=True)\n",
      "  (fc2): Linear(in_features=120, out_features=84, bias=True)\n",
      "  (fc3): Linear(in_features=84, out_features=10, bias=True)\n",
      ")\n"
     ]
    }
   ],
   "source": [
    "import torch\n",
    "import torch.nn as nn\n",
    "import torch.nn.functional as F\n",
    "\n",
    "\n",
    "class Net(nn.Module):\n",
    "    def __init__(self):\n",
    "        super(Net, self).__init__()\n",
    "        # 1 input image channel, 6 output channels, 5x5 square convolution\n",
    "        # kernel\n",
    "        self.conv1 = nn.Conv2d(1, 6, 5)\n",
    "        self.conv2 = nn.Conv2d(6, 16, 5)\n",
    "        \n",
    "        # an affine operation: y = Wx + b\n",
    "        self.fc1 = nn.Linear(16 * 5 * 5, 120)\n",
    "        self.fc2 = nn.Linear(120, 84)\n",
    "        self.fc3 = nn.Linear(84, 10)\n",
    "\n",
    "    def forward(self, x):\n",
    "        # Max pooling over (2, 2) window\n",
    "        x = F.max_pool2d(F.relu(self.conv1(x)), (2, 2))\n",
    "        \n",
    "        # If size is a square, can only specify a single number\n",
    "        x = F.max_pool2d(F.relu(self.conv2(x)), 2)\n",
    "        \n",
    "        x = x.view(-1, self.num_flat_features(x))\n",
    "        x = F.relu(self.fc1(x))\n",
    "        x = F.relu(self.fc2(x))\n",
    "        x = self.fc3(x)\n",
    "        \n",
    "        return x\n",
    "\n",
    "    def num_flat_features(self, x):\n",
    "        # all dimensions except batch dimension\n",
    "        size = x.size()[1:]  \n",
    "        num_features = 1\n",
    "        for s in size:\n",
    "            num_features *= s\n",
    "        return num_features\n",
    "\n",
    "\n",
    "net = Net()\n",
    "print(net)\n",
    "# print(net.num_flat_features)"
   ]
  },
  {
   "cell_type": "markdown",
   "metadata": {},
   "source": [
    "模型必须定义``forward`` 函数，``backward``函数（用来计算梯度）被``autograd``自动创建。\n",
    "\n",
    "可以在 ``forward`` 函数中使用任何针对 Tensor的操作。``net.parameters()``返回可被学习的参数（权重）列表和值"
   ]
  },
  {
   "cell_type": "code",
   "execution_count": 2,
   "metadata": {},
   "outputs": [
    {
     "name": "stdout",
     "output_type": "stream",
     "text": [
      "10\n",
      "torch.Size([6, 1, 5, 5])\n"
     ]
    }
   ],
   "source": [
    "params = list(net.parameters())\n",
    "# print(params)\n",
    "print(len(params))\n",
    "# conv1's .weight\n",
    "print(params[0].size())  "
   ]
  },
  {
   "cell_type": "markdown",
   "metadata": {},
   "source": [
    "测试随机输入32×32。\n",
    "网络（LeNet）期望的输入大小32×32，如果用MNIST数据集训练这个网络，把图片大小重新调整到32×32。"
   ]
  },
  {
   "cell_type": "code",
   "execution_count": 3,
   "metadata": {},
   "outputs": [
    {
     "name": "stdout",
     "output_type": "stream",
     "text": [
      "tensor([[-0.0163, -0.1193, -0.1182, -0.1382,  0.0039,  0.0278,  0.0366,  0.0915,\n",
      "          0.0009, -0.1215]], grad_fn=<AddmmBackward>)\n"
     ]
    }
   ],
   "source": [
    "input = torch.randn(1, 1, 32, 32)\n",
    "out = net(input)\n",
    "print(out)"
   ]
  },
  {
   "cell_type": "markdown",
   "metadata": {},
   "source": [
    "所有参数的梯度缓存清零，进行随机梯度的的反向传播："
   ]
  },
  {
   "cell_type": "code",
   "execution_count": 4,
   "metadata": {},
   "outputs": [],
   "source": [
    "net.zero_grad()\n",
    "out.backward(torch.randn(1, 10))"
   ]
  },
  {
   "cell_type": "markdown",
   "metadata": {},
   "source": [
    "``torch.nn``只支持小批量输入。整个 ``torch.nn``包都只支持小批量样本，不支持单个样本。\n",
    "\n",
    "例如``nn.Conv2d`` 接受一个4维张量，每一维分别是``sSamples * nChannels * Height * Width（样本数*通道数*高*宽）``\n",
    "\n",
    "如果单个样本，使用 ``input.unsqueeze(0)`` 添加其它的维数\n",
    "\n",
    "\n",
    "**回顾:**\n",
    "  -  ``torch.Tensor``：一个自动调用``backward()``实现支持自动梯度计算的*多维数组* ，保存关于这个向量的*梯度* \n",
    "  -  ``nn.Module``：神经网络模块。封装参数、移动到GPU运行、导出、加载等。\n",
    "  -  ``nn.Parameter``：当赋值给一个``Module``时，*自动*注册为一个参数。\n",
    "  -  ``autograd.Function``：实现自动求导操作的前向和反向定义，每个变量操作至少创建一个函数节点。每一个``Tensor``操作都创建一个接到创建``Tensor``和 *编码其历史* 函数的``Function``节点。\n",
    "\n",
    "**重点如下：**\n",
    "  -  定义一个网络\n",
    "  -  处理输入，调用backword\n",
    "\n",
    "**还剩：**\n",
    "  -  计算损失\n",
    "  -  更新网络权重\n",
    "\n",
    "### 损失函数\n",
    "一个损失函数接受一对 (output, target) 为输入，估计网络的输出和目标值相差多少。output为网络输出，target为实际值。\n",
    "\n",
    "nn包中有很多不同的[损失函数](https://pytorch.org/docs/nn.html#loss-functions)。\n",
    "``nn.MSELoss``是一个比较简单的损失函数，计算输出和目标的**均方误差**。"
   ]
  },
  {
   "cell_type": "code",
   "execution_count": 8,
   "metadata": {},
   "outputs": [
    {
     "name": "stdout",
     "output_type": "stream",
     "text": [
      "torch.Size([1, 10])\n",
      "torch.Size([1, 10])\n",
      "tensor(0.4730, grad_fn=<MseLossBackward>)\n"
     ]
    }
   ],
   "source": [
    "output = net(input)\n",
    "\n",
    "# 随机值作为样例\n",
    "target = torch.randn(10)\n",
    "\n",
    "# target和output的shape相同\n",
    "target = target.view(1, -1)\n",
    "print(target.size())\n",
    "print(output.size())\n",
    "\n",
    "criterion = nn.MSELoss()\n",
    "loss = criterion(output, target)\n",
    "print(loss)"
   ]
  },
  {
   "cell_type": "markdown",
   "metadata": {},
   "source": [
    "如果反向过程中跟随``loss``，用``.grad_fn`` 属性，将看到如下所示的计算图。\n",
    "\n",
    "    input -> conv2d -> relu -> maxpool2d -> conv2d -> relu -> maxpool2d\n",
    "          -> view -> linear -> relu -> linear -> relu -> linear\n",
    "          -> MSELoss\n",
    "          -> loss\n",
    "\n",
    "调用 ``loss.backward()``,整张计算图根据loss微分，\n",
    "\n",
    "图中所有设置为``requires_grad=True``的张量会拥有一个随梯度累积的``.grad`` 张量。\n",
    "\n",
    "向后退几步:"
   ]
  },
  {
   "cell_type": "code",
   "execution_count": 13,
   "metadata": {},
   "outputs": [
    {
     "name": "stdout",
     "output_type": "stream",
     "text": [
      "<MseLossBackward object at 0x1280e6190>\n",
      "<AddmmBackward object at 0x1280e60d0>\n",
      "<AccumulateGrad object at 0x1280e6190>\n"
     ]
    }
   ],
   "source": [
    "# MSELoss\n",
    "print(loss.grad_fn)\n",
    "\n",
    "# Linear\n",
    "print(loss.grad_fn.next_functions[0][0])\n",
    "# ReLU\n",
    "print(loss.grad_fn.next_functions[0][0].next_functions[0][0])"
   ]
  },
  {
   "cell_type": "markdown",
   "metadata": {},
   "source": [
    "### 反向传播\n",
    "调用loss.backward()获得反向传播误差。在调用前要清除已存在的梯度，否则梯度被累加到已存在的梯度。\n",
    "\n",
    "调用loss.backward()，查看conv1层的偏差（bias）项在反向传播前后的梯度。"
   ]
  },
  {
   "cell_type": "code",
   "execution_count": 14,
   "metadata": {},
   "outputs": [
    {
     "name": "stdout",
     "output_type": "stream",
     "text": [
      "conv1.bias.grad before backward\n",
      "tensor([0., 0., 0., 0., 0., 0.])\n",
      "conv1.bias.grad after backward\n",
      "tensor([-0.0031, -0.0051, -0.0069,  0.0038, -0.0028, -0.0052])\n"
     ]
    }
   ],
   "source": [
    "# 清除梯度\n",
    "net.zero_grad()  \n",
    "\n",
    "print('conv1.bias.grad before backward')\n",
    "print(net.conv1.bias.grad)\n",
    "\n",
    "loss.backward()\n",
    "print('conv1.bias.grad after backward')\n",
    "print(net.conv1.bias.grad)"
   ]
  },
  {
   "cell_type": "markdown",
   "metadata": {},
   "source": [
    "如何使用损失函数: `nn`包，包含各种构成深度神经网络构建模块和损失函数，完整文档查看[here](https://pytorch.org/docs/nn)。\n",
    "\n",
    "**剩下的最后一件事:**\n",
    "  - 新网络的权重\n",
    "\n",
    "### 更新权重\n",
    "\n",
    "实践中最简单的权重更新规则是随机梯度下降（SGD）：``weight = weight - learning_rate * gradient``\n",
    "\n",
    "可以使用简单的Python代码实现：\n",
    "```python\n",
    "learning_rate = 0.01\n",
    "for f in net.parameters():\n",
    "    f.data.sub_(f.grad.data * learning_rate)\n",
    "```\n",
    "神经网络想要用各种不同更新规则时，比如SGD、Nesterov-SGD、Adam、RMSPROP等，\n",
    "\n",
    "PyTorch包``torch.optim``实现所有规则。使用它们非常简单："
   ]
  },
  {
   "cell_type": "code",
   "execution_count": 15,
   "metadata": {},
   "outputs": [],
   "source": [
    "import torch.optim as optim\n",
    "\n",
    "# create optimizer\n",
    "optimizer = optim.SGD(net.parameters(), lr=0.01)\n",
    "\n",
    "# in training loop:\n",
    "# zero the gradient buffers\n",
    "optimizer.zero_grad()\n",
    "output = net(input)\n",
    "\n",
    "loss = criterion(output, target)\n",
    "loss.backward()\n",
    "\n",
    "# Does the update\n",
    "optimizer.step()"
   ]
  },
  {
   "cell_type": "markdown",
   "metadata": {},
   "source": [
    "如何使用``optimizer.zero_grad()``手动将梯度缓冲区设置为零。梯度按Backprop部分的说明累积。"
   ]
  }
 ],
 "metadata": {
  "kernelspec": {
   "display_name": "Python 3",
   "language": "python",
   "name": "python3"
  },
  "language_info": {
   "codemirror_mode": {
    "name": "ipython",
    "version": 3
   },
   "file_extension": ".py",
   "mimetype": "text/x-python",
   "name": "python",
   "nbconvert_exporter": "python",
   "pygments_lexer": "ipython3",
   "version": "3.8.5"
  }
 },
 "nbformat": 4,
 "nbformat_minor": 1
}
